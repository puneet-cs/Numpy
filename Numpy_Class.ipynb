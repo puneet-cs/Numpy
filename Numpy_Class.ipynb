{
 "cells": [
  {
   "cell_type": "markdown",
   "id": "ddb67e65-e177-42bf-a7bb-c4518a23fd71",
   "metadata": {},
   "source": [
    "# NumPy : Numerical Python"
   ]
  },
  {
   "cell_type": "markdown",
   "id": "6f6bb223-3a76-41af-a5c2-bab74fd10052",
   "metadata": {},
   "source": [
    "# Installing and Importing numpy"
   ]
  },
  {
   "cell_type": "code",
   "execution_count": 2,
   "id": "7f4bd82e-0145-488e-8869-03cb527f06bc",
   "metadata": {},
   "outputs": [
    {
     "name": "stdout",
     "output_type": "stream",
     "text": [
      "Defaulting to user installation because normal site-packages is not writeable\n",
      "Requirement already satisfied: numpy in c:\\programdata\\anaconda3\\lib\\site-packages (1.26.4)\n"
     ]
    }
   ],
   "source": [
    "!pip install numpy"
   ]
  },
  {
   "cell_type": "code",
   "execution_count": 3,
   "id": "d0cd92a1-c7b2-4808-9bed-43ee5f40a114",
   "metadata": {},
   "outputs": [],
   "source": [
    "import numpy as np"
   ]
  },
  {
   "cell_type": "markdown",
   "id": "83ae0fcb-291b-4230-b456-7d0cc8054a58",
   "metadata": {},
   "source": [
    "# create numpy arrays"
   ]
  },
  {
   "cell_type": "code",
   "execution_count": 4,
   "id": "e181ef82-c0a9-4442-a820-5434e022b3ae",
   "metadata": {},
   "outputs": [],
   "source": [
    "# 1D array\n",
    "\n",
    "a = np.array([1,2,3,4,5])"
   ]
  },
  {
   "cell_type": "code",
   "execution_count": 5,
   "id": "6334c391-1421-4cb2-abcc-697c2006618a",
   "metadata": {},
   "outputs": [
    {
     "name": "stdout",
     "output_type": "stream",
     "text": [
      "[1 2 3 4 5]\n"
     ]
    }
   ],
   "source": [
    "print(a)"
   ]
  },
  {
   "cell_type": "code",
   "execution_count": 6,
   "id": "3a8052bc-2800-476d-9198-e14d2a23901a",
   "metadata": {},
   "outputs": [
    {
     "name": "stdout",
     "output_type": "stream",
     "text": [
      "<class 'numpy.ndarray'>\n"
     ]
    }
   ],
   "source": [
    "print(type(a))"
   ]
  },
  {
   "cell_type": "code",
   "execution_count": 7,
   "id": "a1c51079-6323-4391-a677-c94d80440ead",
   "metadata": {},
   "outputs": [],
   "source": [
    "# 2D array : Matrix\n",
    "b = np.array([[1,2,3], [4,5,6]])"
   ]
  },
  {
   "cell_type": "code",
   "execution_count": 8,
   "id": "fc0dee6c-93c1-4436-be7a-cd5a506d1a67",
   "metadata": {},
   "outputs": [
    {
     "name": "stdout",
     "output_type": "stream",
     "text": [
      "[[1 2 3]\n",
      " [4 5 6]]\n"
     ]
    }
   ],
   "source": [
    "print(b)"
   ]
  },
  {
   "cell_type": "code",
   "execution_count": 9,
   "id": "3b9991f1-ccd6-4b12-a03f-31b823fea5a1",
   "metadata": {},
   "outputs": [],
   "source": [
    "# 3d Array: Matrix of Matrice\n",
    "c = np.array([[[1,2], [3,4]] , [[5,6], [7,8]]])"
   ]
  },
  {
   "cell_type": "code",
   "execution_count": 10,
   "id": "8cc9ad3b-610c-44ca-b2e1-c7342b7d5782",
   "metadata": {},
   "outputs": [
    {
     "name": "stdout",
     "output_type": "stream",
     "text": [
      "[[[1 2]\n",
      "  [3 4]]\n",
      "\n",
      " [[5 6]\n",
      "  [7 8]]]\n"
     ]
    }
   ],
   "source": [
    "print(c)"
   ]
  },
  {
   "cell_type": "markdown",
   "id": "c3fa02dd-20ac-4898-8418-5456f47c76cd",
   "metadata": {},
   "source": [
    "# Creating Arrays with Specific Value"
   ]
  },
  {
   "cell_type": "code",
   "execution_count": 11,
   "id": "c9c14856-647b-4de3-b878-4c91bc99eade",
   "metadata": {},
   "outputs": [
    {
     "name": "stdout",
     "output_type": "stream",
     "text": [
      "[[0. 0. 0.]]\n"
     ]
    }
   ],
   "source": [
    "zero = np.zeros((1,3))\n",
    "print(zero)"
   ]
  },
  {
   "cell_type": "code",
   "execution_count": 12,
   "id": "77a74731-6245-4c03-a52d-95de673c4d19",
   "metadata": {},
   "outputs": [
    {
     "name": "stdout",
     "output_type": "stream",
     "text": [
      "[[0. 0. 0.]\n",
      " [0. 0. 0.]]\n"
     ]
    }
   ],
   "source": [
    "zero = np.zeros((2,3))\n",
    "print(zero)"
   ]
  },
  {
   "cell_type": "code",
   "execution_count": 13,
   "id": "5098b685-a7ad-4b78-97fa-4d20c27eef12",
   "metadata": {},
   "outputs": [
    {
     "name": "stdout",
     "output_type": "stream",
     "text": [
      "[[0. 0. 0. 0.]\n",
      " [0. 0. 0. 0.]]\n"
     ]
    }
   ],
   "source": [
    "zero = np.zeros((2,4))\n",
    "print(zero)"
   ]
  },
  {
   "cell_type": "code",
   "execution_count": 14,
   "id": "ae259f43-51c4-404b-b14d-2e04ff930036",
   "metadata": {},
   "outputs": [
    {
     "name": "stdout",
     "output_type": "stream",
     "text": [
      "[[1. 1. 1.]]\n"
     ]
    }
   ],
   "source": [
    "one = np.ones((1,3))\n",
    "print(one)"
   ]
  },
  {
   "cell_type": "code",
   "execution_count": 15,
   "id": "40a14fc5-66b4-4f94-8525-b192fa5aaa58",
   "metadata": {},
   "outputs": [
    {
     "name": "stdout",
     "output_type": "stream",
     "text": [
      "[[1. 1. 1. 1. 1.]\n",
      " [1. 1. 1. 1. 1.]]\n"
     ]
    }
   ],
   "source": [
    "one = np.ones((2,5))\n",
    "print(one)"
   ]
  },
  {
   "cell_type": "code",
   "execution_count": 16,
   "id": "d5df900e-7894-4bc5-8672-aa0c73b6ae3e",
   "metadata": {},
   "outputs": [
    {
     "name": "stdout",
     "output_type": "stream",
     "text": [
      "[[7 7 7]\n",
      " [7 7 7]\n",
      " [7 7 7]]\n"
     ]
    }
   ],
   "source": [
    "arr = np.full((3,3), 7)\n",
    "print(arr)"
   ]
  },
  {
   "cell_type": "code",
   "execution_count": 17,
   "id": "a211da71-d10f-498d-8970-6bd551a3be04",
   "metadata": {},
   "outputs": [
    {
     "name": "stdout",
     "output_type": "stream",
     "text": [
      "[[100 100 100 100 100 100 100]\n",
      " [100 100 100 100 100 100 100]\n",
      " [100 100 100 100 100 100 100]]\n"
     ]
    }
   ],
   "source": [
    "arr = np.full((3,7), 100)\n",
    "print(arr)"
   ]
  },
  {
   "cell_type": "code",
   "execution_count": 18,
   "id": "db97bfa4-6057-4887-a0a5-44e4d9976224",
   "metadata": {},
   "outputs": [
    {
     "name": "stdout",
     "output_type": "stream",
     "text": [
      "[[1. 0. 0. 0.]\n",
      " [0. 1. 0. 0.]\n",
      " [0. 0. 1. 0.]\n",
      " [0. 0. 0. 1.]]\n"
     ]
    }
   ],
   "source": [
    "identity = np.eye(4)\n",
    "print(identity)"
   ]
  },
  {
   "cell_type": "markdown",
   "id": "240af6f4-9b94-4bd4-b33c-aeafdba27124",
   "metadata": {},
   "source": [
    "# Random number generation"
   ]
  },
  {
   "cell_type": "code",
   "execution_count": 19,
   "id": "e1e7c792-df39-4556-8ca8-a9681a60e3bd",
   "metadata": {},
   "outputs": [
    {
     "name": "stdout",
     "output_type": "stream",
     "text": [
      "[[0.1402045  0.26163065 0.90777901 ... 0.63630502 0.59842382 0.10231208]\n",
      " [0.79125337 0.15420376 0.59979255 ... 0.72478925 0.49704817 0.90347265]\n",
      " [0.29995689 0.02701107 0.94756244 ... 0.2433005  0.16355643 0.11345023]\n",
      " ...\n",
      " [0.53828874 0.84591995 0.41932402 ... 0.31795113 0.22713568 0.15549202]\n",
      " [0.10168793 0.93196921 0.3819297  ... 0.32800837 0.40106391 0.2335541 ]\n",
      " [0.2770232  0.91770814 0.3344051  ... 0.39793913 0.94589729 0.59099885]]\n"
     ]
    }
   ],
   "source": [
    "rand_array = np.random.rand(4000,40)  # uniform distribution (0,1)\n",
    "print(rand_array)"
   ]
  },
  {
   "cell_type": "code",
   "execution_count": 20,
   "id": "e30297ce-4510-4b19-9a5c-f136de9cd2d4",
   "metadata": {},
   "outputs": [
    {
     "name": "stdout",
     "output_type": "stream",
     "text": [
      "[[-0.39447851 -0.6966446  -1.12238549]\n",
      " [-0.78520069  1.97929411  0.92795374]\n",
      " [-0.57212643  0.3687276  -0.24714115]]\n"
     ]
    }
   ],
   "source": [
    "rand_normal = np.random.randn(3,3)   # standard normal distribution\n",
    "print(rand_normal)"
   ]
  },
  {
   "cell_type": "code",
   "execution_count": 21,
   "id": "6e04ae74-fe3f-491e-8c6b-5c99b6897f12",
   "metadata": {},
   "outputs": [
    {
     "name": "stdout",
     "output_type": "stream",
     "text": [
      "[[75 11 95]\n",
      " [27 81 14]]\n"
     ]
    }
   ],
   "source": [
    "rand_ints = np.random.randint(10, 100, (2,3))\n",
    "print(rand_ints)"
   ]
  },
  {
   "cell_type": "code",
   "execution_count": 22,
   "id": "22bc1560-19ba-4e33-b0f8-5ea8b2a9a4ec",
   "metadata": {},
   "outputs": [
    {
     "name": "stdout",
     "output_type": "stream",
     "text": [
      "[[596 776 581 592 228 211 385]\n",
      " [444 616 154 516 969 303 899]\n",
      " [726 345 695 236 182 816 265]\n",
      " [836 187 310 172 662 995 824]\n",
      " [984 219 813 731 273 704 409]\n",
      " [947 568 267 101 907 743 412]]\n"
     ]
    }
   ],
   "source": [
    "rand_ints = np.random.randint(100, 1000, (6,7))\n",
    "print(rand_ints)"
   ]
  },
  {
   "cell_type": "markdown",
   "id": "4014966e-28bd-4af1-bbde-381a65b16514",
   "metadata": {},
   "source": [
    "# create sequences, linear spaced value"
   ]
  },
  {
   "cell_type": "code",
   "execution_count": 23,
   "id": "41118314-7783-4c00-bcd3-3a8471610bcb",
   "metadata": {},
   "outputs": [
    {
     "name": "stdout",
     "output_type": "stream",
     "text": [
      "[0 2 4 6 8]\n"
     ]
    }
   ],
   "source": [
    "arr1 = np.arange(0, 10, 2)\n",
    "print(arr1)"
   ]
  },
  {
   "cell_type": "code",
   "execution_count": 24,
   "id": "c6edaf72-55a8-4fae-aeb8-d76d49e991bb",
   "metadata": {},
   "outputs": [
    {
     "name": "stdout",
     "output_type": "stream",
     "text": [
      "[0 3 6 9]\n"
     ]
    }
   ],
   "source": [
    "arr1 = np.arange(0, 10, 3)\n",
    "print(arr1)"
   ]
  },
  {
   "cell_type": "code",
   "execution_count": 32,
   "id": "123a0864-b816-49e1-8c21-01ac104a40e4",
   "metadata": {},
   "outputs": [
    {
     "name": "stdout",
     "output_type": "stream",
     "text": [
      "[ 0.          0.1010101   0.2020202   0.3030303   0.4040404   0.50505051\n",
      "  0.60606061  0.70707071  0.80808081  0.90909091  1.01010101  1.11111111\n",
      "  1.21212121  1.31313131  1.41414141  1.51515152  1.61616162  1.71717172\n",
      "  1.81818182  1.91919192  2.02020202  2.12121212  2.22222222  2.32323232\n",
      "  2.42424242  2.52525253  2.62626263  2.72727273  2.82828283  2.92929293\n",
      "  3.03030303  3.13131313  3.23232323  3.33333333  3.43434343  3.53535354\n",
      "  3.63636364  3.73737374  3.83838384  3.93939394  4.04040404  4.14141414\n",
      "  4.24242424  4.34343434  4.44444444  4.54545455  4.64646465  4.74747475\n",
      "  4.84848485  4.94949495  5.05050505  5.15151515  5.25252525  5.35353535\n",
      "  5.45454545  5.55555556  5.65656566  5.75757576  5.85858586  5.95959596\n",
      "  6.06060606  6.16161616  6.26262626  6.36363636  6.46464646  6.56565657\n",
      "  6.66666667  6.76767677  6.86868687  6.96969697  7.07070707  7.17171717\n",
      "  7.27272727  7.37373737  7.47474747  7.57575758  7.67676768  7.77777778\n",
      "  7.87878788  7.97979798  8.08080808  8.18181818  8.28282828  8.38383838\n",
      "  8.48484848  8.58585859  8.68686869  8.78787879  8.88888889  8.98989899\n",
      "  9.09090909  9.19191919  9.29292929  9.39393939  9.49494949  9.5959596\n",
      "  9.6969697   9.7979798   9.8989899  10.        ]\n"
     ]
    }
   ],
   "source": [
    "arr2 = np.linspace(0, 10, 100)\n",
    "print(arr2)"
   ]
  },
  {
   "cell_type": "markdown",
   "id": "3f6588ac-9317-48e4-8b32-4af9f71996a9",
   "metadata": {},
   "source": [
    "# Array shape & Reshaping & Transpose"
   ]
  },
  {
   "cell_type": "code",
   "execution_count": 26,
   "id": "5a620ace-4092-46e6-a471-94c0f17084c6",
   "metadata": {},
   "outputs": [
    {
     "name": "stdout",
     "output_type": "stream",
     "text": [
      "[[1 2 3]\n",
      " [4 5 6]]\n"
     ]
    }
   ],
   "source": [
    "a = np.array([[1,2,3] , [4,5,6]])\n",
    "print(a)"
   ]
  },
  {
   "cell_type": "code",
   "execution_count": 27,
   "id": "3908d135-6f79-4112-8d1e-1b7ba5f03294",
   "metadata": {},
   "outputs": [
    {
     "name": "stdout",
     "output_type": "stream",
     "text": [
      "[[1 2]\n",
      " [3 4]\n",
      " [5 6]]\n"
     ]
    }
   ],
   "source": [
    "# Reshaping\n",
    "b = a.reshape(3,2)\n",
    "print(b)"
   ]
  },
  {
   "cell_type": "code",
   "execution_count": 28,
   "id": "87cbdc82-4e93-4a60-97ba-7f535ac17099",
   "metadata": {},
   "outputs": [
    {
     "name": "stdout",
     "output_type": "stream",
     "text": [
      "[ 1  2  3  4  5  6  7  8  9 10 11 12]\n",
      "[[ 1  2  3  4]\n",
      " [ 5  6  7  8]\n",
      " [ 9 10 11 12]]\n"
     ]
    }
   ],
   "source": [
    "a  = np.arange(1,13)\n",
    "b = a.reshape(3,4)\n",
    "print(a)\n",
    "print(b)"
   ]
  },
  {
   "cell_type": "code",
   "execution_count": 29,
   "id": "a02cf6b8-490f-45cc-b73a-e25af622f3b2",
   "metadata": {},
   "outputs": [
    {
     "name": "stdout",
     "output_type": "stream",
     "text": [
      "[ 1  2  3  4  5  6  7  8  9 10 11 12]\n"
     ]
    }
   ],
   "source": [
    "c = b.ravel()\n",
    "print(c)"
   ]
  },
  {
   "cell_type": "code",
   "execution_count": 30,
   "id": "7e061bcf-fc63-418d-909a-f8f5345c35cb",
   "metadata": {},
   "outputs": [
    {
     "name": "stdout",
     "output_type": "stream",
     "text": [
      "[[1 4]\n",
      " [2 5]\n",
      " [3 6]]\n"
     ]
    }
   ],
   "source": [
    "# transpose\n",
    "\n",
    "arr = np.array([[1,2,3],\n",
    "               [4,5,6]])\n",
    "transpose = arr.T\n",
    "print(transpose)"
   ]
  },
  {
   "cell_type": "markdown",
   "id": "f59d6680-9784-4cf2-932f-8f77a96fc14c",
   "metadata": {},
   "source": [
    "# count total elements & find data types of elements"
   ]
  },
  {
   "cell_type": "code",
   "execution_count": 33,
   "id": "c99d9d33-0f1f-4237-90c5-7eac5ff779a2",
   "metadata": {},
   "outputs": [
    {
     "name": "stdout",
     "output_type": "stream",
     "text": [
      "12\n"
     ]
    }
   ],
   "source": [
    "print(b.size)"
   ]
  },
  {
   "cell_type": "code",
   "execution_count": 34,
   "id": "a5336f47-b357-4cab-bd63-1cef377e62ab",
   "metadata": {},
   "outputs": [
    {
     "name": "stdout",
     "output_type": "stream",
     "text": [
      "int32\n"
     ]
    }
   ],
   "source": [
    "print(b.dtype)"
   ]
  },
  {
   "cell_type": "code",
   "execution_count": 38,
   "id": "d645fd81-fefb-41aa-b130-652726b46ce9",
   "metadata": {},
   "outputs": [],
   "source": [
    "arr = np.array([\"apple\", \"bananaaaaa\", \"cherry\"])"
   ]
  },
  {
   "cell_type": "code",
   "execution_count": null,
   "id": "a72233cb-b644-4058-a07f-f31d066939d9",
   "metadata": {},
   "outputs": [],
   "source": []
  },
  {
   "cell_type": "code",
   "execution_count": null,
   "id": "78ce8f62-69c0-4d97-ba16-e2f774212be2",
   "metadata": {},
   "outputs": [],
   "source": []
  },
  {
   "cell_type": "code",
   "execution_count": 39,
   "id": "0584aefe-d348-4b8b-9224-19f40fe3fbe4",
   "metadata": {},
   "outputs": [
    {
     "name": "stdout",
     "output_type": "stream",
     "text": [
      "['apple' 'bananaaaaa' 'cherry']\n"
     ]
    }
   ],
   "source": [
    "print(arr)"
   ]
  },
  {
   "cell_type": "code",
   "execution_count": 40,
   "id": "03a88825-20fd-453e-81d5-485b3214a7eb",
   "metadata": {},
   "outputs": [
    {
     "name": "stdout",
     "output_type": "stream",
     "text": [
      "<U10\n"
     ]
    }
   ],
   "source": [
    "print(arr.dtype)"
   ]
  },
  {
   "cell_type": "markdown",
   "id": "a6909a98-2d79-4596-9f8a-8dc62d690316",
   "metadata": {},
   "source": [
    "# Indexing & Slicing & Modify"
   ]
  },
  {
   "cell_type": "code",
   "execution_count": 41,
   "id": "93943f08-2841-4cf1-9ae1-b4e4c1f351d4",
   "metadata": {},
   "outputs": [],
   "source": [
    "arr = np.array([[10,20,30], \n",
    "                [40,50,60]])"
   ]
  },
  {
   "cell_type": "code",
   "execution_count": 42,
   "id": "9472477c-414e-499a-a042-fd7f65a447cb",
   "metadata": {},
   "outputs": [
    {
     "name": "stdout",
     "output_type": "stream",
     "text": [
      "60\n"
     ]
    }
   ],
   "source": [
    "print(arr[1,2])"
   ]
  },
  {
   "cell_type": "code",
   "execution_count": 43,
   "id": "54e3de7f-f50b-455e-aecd-c0fd4d123349",
   "metadata": {},
   "outputs": [
    {
     "name": "stdout",
     "output_type": "stream",
     "text": [
      "[10 20 30]\n"
     ]
    }
   ],
   "source": [
    "print(arr[0, :])"
   ]
  },
  {
   "cell_type": "code",
   "execution_count": 44,
   "id": "e66f977c-db09-4cb9-b254-fb653fb7d942",
   "metadata": {},
   "outputs": [
    {
     "name": "stdout",
     "output_type": "stream",
     "text": [
      "[20 50]\n"
     ]
    }
   ],
   "source": [
    "print(arr[ : , 1])"
   ]
  },
  {
   "cell_type": "code",
   "execution_count": 45,
   "id": "ab4e66f1-d63c-432b-bac6-7277130c5211",
   "metadata": {},
   "outputs": [
    {
     "name": "stdout",
     "output_type": "stream",
     "text": [
      "50\n"
     ]
    }
   ],
   "source": [
    "print(arr[-1,-2])"
   ]
  },
  {
   "cell_type": "code",
   "execution_count": 46,
   "id": "0bac6883-6b2c-4d39-8dac-3fbe85bc2823",
   "metadata": {},
   "outputs": [
    {
     "name": "stdout",
     "output_type": "stream",
     "text": [
      "[40 50 60]\n"
     ]
    }
   ],
   "source": [
    "print(arr[-1])"
   ]
  },
  {
   "cell_type": "code",
   "execution_count": 47,
   "id": "2528e78b-0920-4bcd-aec9-d2d50c79ad11",
   "metadata": {},
   "outputs": [
    {
     "name": "stdout",
     "output_type": "stream",
     "text": [
      "[[10 20 30]\n",
      " [40 50 99]]\n"
     ]
    }
   ],
   "source": [
    "arr[1,2] = 99\n",
    "print(arr)"
   ]
  },
  {
   "cell_type": "markdown",
   "id": "c569457a-fa8b-4b0d-b2f4-d1fa63b8373f",
   "metadata": {},
   "source": [
    "# Statistical Operations"
   ]
  },
  {
   "cell_type": "code",
   "execution_count": 48,
   "id": "c9a8be29-4211-4087-b54a-ff733aa6bf15",
   "metadata": {},
   "outputs": [],
   "source": [
    "arr = np.array([[1,2,3], \n",
    "                [4,5,6]])"
   ]
  },
  {
   "cell_type": "code",
   "execution_count": 49,
   "id": "6aae89ca-c05d-47a2-8843-b9f09c8257c7",
   "metadata": {},
   "outputs": [
    {
     "name": "stdout",
     "output_type": "stream",
     "text": [
      "[[11 12 13]\n",
      " [14 15 16]]\n"
     ]
    }
   ],
   "source": [
    "print(arr + 10)"
   ]
  },
  {
   "cell_type": "code",
   "execution_count": 50,
   "id": "57a81f1d-c9a8-486b-bb0c-df1a16347db3",
   "metadata": {},
   "outputs": [
    {
     "name": "stdout",
     "output_type": "stream",
     "text": [
      "[[ 2  4  6]\n",
      " [ 8 10 12]]\n"
     ]
    }
   ],
   "source": [
    "print(arr * 2)"
   ]
  },
  {
   "cell_type": "code",
   "execution_count": 51,
   "id": "27d222eb-be4c-416c-bc0e-0a208cd45864",
   "metadata": {},
   "outputs": [
    {
     "name": "stdout",
     "output_type": "stream",
     "text": [
      "[[ 1  4  9]\n",
      " [16 25 36]]\n"
     ]
    }
   ],
   "source": [
    "print(arr ** 2)"
   ]
  },
  {
   "cell_type": "code",
   "execution_count": 52,
   "id": "ef113db9-541d-4b87-ae44-002812ddfba7",
   "metadata": {},
   "outputs": [
    {
     "name": "stdout",
     "output_type": "stream",
     "text": [
      "21\n"
     ]
    }
   ],
   "source": [
    "print(arr.sum())"
   ]
  },
  {
   "cell_type": "code",
   "execution_count": 53,
   "id": "e891818d-629f-497a-82a4-80a1a7aca01d",
   "metadata": {},
   "outputs": [
    {
     "name": "stdout",
     "output_type": "stream",
     "text": [
      "3.5\n"
     ]
    }
   ],
   "source": [
    "print(arr.mean())"
   ]
  },
  {
   "cell_type": "code",
   "execution_count": 58,
   "id": "c0c4ab0a-6240-438f-8dde-595b4ba4523f",
   "metadata": {},
   "outputs": [],
   "source": [
    "arr = np.array([[10,2,3], \n",
    "                [4,50,6]])"
   ]
  },
  {
   "cell_type": "code",
   "execution_count": 54,
   "id": "95441f84-4568-408c-8ef1-2edc85ef19b8",
   "metadata": {},
   "outputs": [
    {
     "name": "stdout",
     "output_type": "stream",
     "text": [
      "[4 5 6]\n"
     ]
    }
   ],
   "source": [
    "print(arr.max(axis = 0))"
   ]
  },
  {
   "cell_type": "code",
   "execution_count": 55,
   "id": "5977a0ae-0a8d-445a-94c4-434b3c80578a",
   "metadata": {},
   "outputs": [
    {
     "name": "stdout",
     "output_type": "stream",
     "text": [
      "[3 6]\n"
     ]
    }
   ],
   "source": [
    "print(arr.max(axis = 1))"
   ]
  },
  {
   "cell_type": "code",
   "execution_count": 56,
   "id": "17d967cf-8827-4ae4-8a29-2afab62601d9",
   "metadata": {},
   "outputs": [
    {
     "name": "stdout",
     "output_type": "stream",
     "text": [
      "[1 2 3]\n"
     ]
    }
   ],
   "source": [
    "print(arr.min(axis = 0))"
   ]
  },
  {
   "cell_type": "code",
   "execution_count": 57,
   "id": "57e8a5fd-637c-41dd-84de-89f935d7f6cd",
   "metadata": {},
   "outputs": [
    {
     "name": "stdout",
     "output_type": "stream",
     "text": [
      "[1 4]\n"
     ]
    }
   ],
   "source": [
    "print(arr.min(axis = 1))"
   ]
  },
  {
   "cell_type": "code",
   "execution_count": 59,
   "id": "6bf23cd5-95a5-4a32-8bc2-eeb876e995a6",
   "metadata": {},
   "outputs": [
    {
     "name": "stdout",
     "output_type": "stream",
     "text": [
      "[[ 2  3 10]\n",
      " [ 4  6 50]]\n"
     ]
    }
   ],
   "source": [
    "print(np.sort(arr))"
   ]
  },
  {
   "cell_type": "code",
   "execution_count": 60,
   "id": "714f0754-491d-45f2-8308-49eb16d707b4",
   "metadata": {},
   "outputs": [],
   "source": [
    "arr = np.array([\"bananaaaaa\", \"cherry\", \"apple\"])"
   ]
  },
  {
   "cell_type": "code",
   "execution_count": 61,
   "id": "04d168b2-8d46-45e4-b308-458e599f36b9",
   "metadata": {},
   "outputs": [
    {
     "name": "stdout",
     "output_type": "stream",
     "text": [
      "['apple' 'bananaaaaa' 'cherry']\n"
     ]
    }
   ],
   "source": [
    "print(np.sort(arr))"
   ]
  },
  {
   "cell_type": "markdown",
   "id": "0a24447a-1135-4c01-a16a-84b7833a85b7",
   "metadata": {},
   "source": [
    "# Joining Numpy array"
   ]
  },
  {
   "cell_type": "code",
   "execution_count": 62,
   "id": "6cf053b1-6900-4760-991c-16dd07f9e8b6",
   "metadata": {},
   "outputs": [],
   "source": [
    "arr1 = np.array([1,2,3])\n",
    "arr2 = np.array([4,5,6])"
   ]
  },
  {
   "cell_type": "code",
   "execution_count": 63,
   "id": "add4dd49-0921-4628-b187-eb0c0cd3ebea",
   "metadata": {},
   "outputs": [],
   "source": [
    "arr = np.concatenate((arr1,arr2))"
   ]
  },
  {
   "cell_type": "code",
   "execution_count": 64,
   "id": "57e8cca3-8f64-46c0-81e7-93332aeeb171",
   "metadata": {},
   "outputs": [
    {
     "name": "stdout",
     "output_type": "stream",
     "text": [
      "[1 2 3 4 5 6]\n"
     ]
    }
   ],
   "source": [
    "print(arr)"
   ]
  },
  {
   "cell_type": "code",
   "execution_count": 66,
   "id": "903dc847-25c8-4035-8f36-c3e59b2a61ff",
   "metadata": {},
   "outputs": [],
   "source": [
    "arr1 = np.array([[1,2],\n",
    "                 [3,4]])\n",
    "arr2 = np.array([[5,6], \n",
    "                 [7,8]])"
   ]
  },
  {
   "cell_type": "code",
   "execution_count": 67,
   "id": "a0a3f7d3-97d8-4de8-b4c5-e284e2f24399",
   "metadata": {},
   "outputs": [],
   "source": [
    "arr = np.concatenate((arr1,arr2), axis = 1)  # row wise"
   ]
  },
  {
   "cell_type": "code",
   "execution_count": 68,
   "id": "3525591f-4d2b-4f25-9786-ede35f0da430",
   "metadata": {},
   "outputs": [
    {
     "name": "stdout",
     "output_type": "stream",
     "text": [
      "[[1 2 5 6]\n",
      " [3 4 7 8]]\n"
     ]
    }
   ],
   "source": [
    "print(arr)"
   ]
  },
  {
   "cell_type": "code",
   "execution_count": 69,
   "id": "5c7c8eca-7a7c-4719-97a9-8703cda1f167",
   "metadata": {},
   "outputs": [],
   "source": [
    "arr = np.concatenate((arr1,arr2), axis = 0)  # column wise"
   ]
  },
  {
   "cell_type": "code",
   "execution_count": 70,
   "id": "19dd51f7-f4de-41c4-9c28-e5695d89d21c",
   "metadata": {},
   "outputs": [
    {
     "name": "stdout",
     "output_type": "stream",
     "text": [
      "[[1 2]\n",
      " [3 4]\n",
      " [5 6]\n",
      " [7 8]]\n"
     ]
    }
   ],
   "source": [
    "print(arr)"
   ]
  },
  {
   "cell_type": "code",
   "execution_count": 71,
   "id": "523d6466-d244-4ade-9966-9076c4182b5f",
   "metadata": {},
   "outputs": [],
   "source": [
    "arr = np.concatenate((arr1,arr2))  "
   ]
  },
  {
   "cell_type": "code",
   "execution_count": 72,
   "id": "1812b863-5b8a-43df-9c37-48bace2ce55f",
   "metadata": {},
   "outputs": [
    {
     "name": "stdout",
     "output_type": "stream",
     "text": [
      "[[1 2]\n",
      " [3 4]\n",
      " [5 6]\n",
      " [7 8]]\n"
     ]
    }
   ],
   "source": [
    "print(arr)"
   ]
  },
  {
   "cell_type": "markdown",
   "id": "2a55634b-5079-49d3-a475-408c611b42af",
   "metadata": {},
   "source": [
    "# Numpy stacking & spliting"
   ]
  },
  {
   "cell_type": "code",
   "execution_count": 73,
   "id": "5c28b891-3cae-4e70-adaa-6b91524be6cf",
   "metadata": {},
   "outputs": [],
   "source": [
    "arr1 = np.array([1,2,3])\n",
    "arr2 = np.array([4,5,6])"
   ]
  },
  {
   "cell_type": "code",
   "execution_count": 74,
   "id": "52ee53dc-e6a1-45b2-b3cf-1595ab2801b8",
   "metadata": {},
   "outputs": [],
   "source": [
    "stacked = np.stack((arr1,arr2))"
   ]
  },
  {
   "cell_type": "code",
   "execution_count": 75,
   "id": "774afc98-1c8e-4f49-b6fd-fc2e73eb1564",
   "metadata": {},
   "outputs": [
    {
     "name": "stdout",
     "output_type": "stream",
     "text": [
      "[[1 2 3]\n",
      " [4 5 6]]\n"
     ]
    }
   ],
   "source": [
    "print(stacked)"
   ]
  },
  {
   "cell_type": "code",
   "execution_count": 76,
   "id": "1cbaa6e4-9b7f-4dc2-9dbb-fb079a5458ce",
   "metadata": {},
   "outputs": [],
   "source": [
    "stacked = np.stack((arr1,arr2), axis = 1)"
   ]
  },
  {
   "cell_type": "code",
   "execution_count": 77,
   "id": "38c0d427-e1f4-4f5e-8509-d1f77eb1bc4d",
   "metadata": {},
   "outputs": [
    {
     "name": "stdout",
     "output_type": "stream",
     "text": [
      "[[1 4]\n",
      " [2 5]\n",
      " [3 6]]\n"
     ]
    }
   ],
   "source": [
    "print(stacked)"
   ]
  },
  {
   "cell_type": "code",
   "execution_count": 78,
   "id": "ac0889b1-b078-4dd0-849f-4b01d9685163",
   "metadata": {},
   "outputs": [],
   "source": [
    "arr1 = np.array([[1,2],\n",
    "                 [3,4]])\n",
    "arr2 = np.array([[5,6], \n",
    "                 [7,8]])"
   ]
  },
  {
   "cell_type": "code",
   "execution_count": 79,
   "id": "7b523d6e-98e9-4e2b-a11b-ecac11040811",
   "metadata": {},
   "outputs": [],
   "source": [
    "stacked = np.stack((arr1,arr2))"
   ]
  },
  {
   "cell_type": "code",
   "execution_count": 80,
   "id": "8d5cc698-63df-487d-a7d5-1b835d491ecb",
   "metadata": {},
   "outputs": [
    {
     "name": "stdout",
     "output_type": "stream",
     "text": [
      "[[[1 2]\n",
      "  [3 4]]\n",
      "\n",
      " [[5 6]\n",
      "  [7 8]]]\n"
     ]
    }
   ],
   "source": [
    "print(stacked)"
   ]
  },
  {
   "cell_type": "markdown",
   "id": "cfec5f69-486d-4eb4-9195-3ed3b827511b",
   "metadata": {},
   "source": [
    "# Splitting arrays"
   ]
  },
  {
   "cell_type": "code",
   "execution_count": 81,
   "id": "d77c54a6-dd4f-45b3-9164-b3f07dbe7cac",
   "metadata": {},
   "outputs": [],
   "source": [
    "arr = np.array([10,20,30,40,50,60])"
   ]
  },
  {
   "cell_type": "code",
   "execution_count": 82,
   "id": "6af82a99-c0c4-43e4-8c4e-fdcdea3171b0",
   "metadata": {},
   "outputs": [],
   "source": [
    "split_arr = np.split(arr, 3)"
   ]
  },
  {
   "cell_type": "code",
   "execution_count": 83,
   "id": "662a5076-842b-4ec0-a671-88b117fddb07",
   "metadata": {},
   "outputs": [
    {
     "name": "stdout",
     "output_type": "stream",
     "text": [
      "[array([10, 20]), array([30, 40]), array([50, 60])]\n"
     ]
    }
   ],
   "source": [
    "print(split_arr)"
   ]
  },
  {
   "cell_type": "code",
   "execution_count": null,
   "id": "ed895c18-c182-4791-bc4d-2d48c6e790cc",
   "metadata": {},
   "outputs": [],
   "source": []
  }
 ],
 "metadata": {
  "kernelspec": {
   "display_name": "Python 3 (ipykernel)",
   "language": "python",
   "name": "python3"
  },
  "language_info": {
   "codemirror_mode": {
    "name": "ipython",
    "version": 3
   },
   "file_extension": ".py",
   "mimetype": "text/x-python",
   "name": "python",
   "nbconvert_exporter": "python",
   "pygments_lexer": "ipython3",
   "version": "3.12.7"
  }
 },
 "nbformat": 4,
 "nbformat_minor": 5
}
