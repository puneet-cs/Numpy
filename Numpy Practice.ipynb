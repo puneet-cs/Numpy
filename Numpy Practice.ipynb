{
 "cells": [
  {
   "cell_type": "markdown",
   "id": "e17bea10-f5e0-44a3-8efa-339e5aff3fd8",
   "metadata": {},
   "source": [
    "# Importing Numpy"
   ]
  },
  {
   "cell_type": "code",
   "execution_count": 3,
   "id": "f45c9928-0056-49ff-b0ea-ba744fc08b3d",
   "metadata": {},
   "outputs": [],
   "source": [
    "import numpy as np\n",
    "import pandas as pd"
   ]
  },
  {
   "cell_type": "markdown",
   "id": "8b381bd7-8b8a-4e79-ab2b-4f1c67332277",
   "metadata": {},
   "source": [
    "# loading dataset"
   ]
  },
  {
   "cell_type": "code",
   "execution_count": 7,
   "id": "fd88f8bd-d963-45ba-9c14-04c66679662a",
   "metadata": {},
   "outputs": [],
   "source": [
    "cricket_df = pd.read_csv(\"Indian_Cricket_Team_Dataset.csv\")"
   ]
  },
  {
   "cell_type": "code",
   "execution_count": 8,
   "id": "490d13a5-896d-43d9-ae09-5da74db5df1a",
   "metadata": {},
   "outputs": [
    {
     "data": {
      "text/html": [
       "<div>\n",
       "<style scoped>\n",
       "    .dataframe tbody tr th:only-of-type {\n",
       "        vertical-align: middle;\n",
       "    }\n",
       "\n",
       "    .dataframe tbody tr th {\n",
       "        vertical-align: top;\n",
       "    }\n",
       "\n",
       "    .dataframe thead th {\n",
       "        text-align: right;\n",
       "    }\n",
       "</style>\n",
       "<table border=\"1\" class=\"dataframe\">\n",
       "  <thead>\n",
       "    <tr style=\"text-align: right;\">\n",
       "      <th></th>\n",
       "      <th>Player Name</th>\n",
       "      <th>Age</th>\n",
       "      <th>Matches Played</th>\n",
       "      <th>Batting Average</th>\n",
       "      <th>Strike Rate</th>\n",
       "    </tr>\n",
       "  </thead>\n",
       "  <tbody>\n",
       "    <tr>\n",
       "      <th>0</th>\n",
       "      <td>Player_1</td>\n",
       "      <td>26</td>\n",
       "      <td>456</td>\n",
       "      <td>27.70</td>\n",
       "      <td>188.21</td>\n",
       "    </tr>\n",
       "    <tr>\n",
       "      <th>1</th>\n",
       "      <td>Player_2</td>\n",
       "      <td>23</td>\n",
       "      <td>154</td>\n",
       "      <td>24.61</td>\n",
       "      <td>139.34</td>\n",
       "    </tr>\n",
       "    <tr>\n",
       "      <th>2</th>\n",
       "      <td>Player_3</td>\n",
       "      <td>32</td>\n",
       "      <td>210</td>\n",
       "      <td>36.87</td>\n",
       "      <td>182.79</td>\n",
       "    </tr>\n",
       "    <tr>\n",
       "      <th>3</th>\n",
       "      <td>Player_4</td>\n",
       "      <td>34</td>\n",
       "      <td>426</td>\n",
       "      <td>51.81</td>\n",
       "      <td>178.77</td>\n",
       "    </tr>\n",
       "    <tr>\n",
       "      <th>4</th>\n",
       "      <td>Player_5</td>\n",
       "      <td>30</td>\n",
       "      <td>221</td>\n",
       "      <td>49.80</td>\n",
       "      <td>162.44</td>\n",
       "    </tr>\n",
       "    <tr>\n",
       "      <th>...</th>\n",
       "      <td>...</td>\n",
       "      <td>...</td>\n",
       "      <td>...</td>\n",
       "      <td>...</td>\n",
       "      <td>...</td>\n",
       "    </tr>\n",
       "    <tr>\n",
       "      <th>995</th>\n",
       "      <td>Player_996</td>\n",
       "      <td>24</td>\n",
       "      <td>279</td>\n",
       "      <td>23.46</td>\n",
       "      <td>187.80</td>\n",
       "    </tr>\n",
       "    <tr>\n",
       "      <th>996</th>\n",
       "      <td>Player_997</td>\n",
       "      <td>28</td>\n",
       "      <td>344</td>\n",
       "      <td>29.47</td>\n",
       "      <td>160.55</td>\n",
       "    </tr>\n",
       "    <tr>\n",
       "      <th>997</th>\n",
       "      <td>Player_998</td>\n",
       "      <td>23</td>\n",
       "      <td>126</td>\n",
       "      <td>49.30</td>\n",
       "      <td>124.71</td>\n",
       "    </tr>\n",
       "    <tr>\n",
       "      <th>998</th>\n",
       "      <td>Player_999</td>\n",
       "      <td>35</td>\n",
       "      <td>16</td>\n",
       "      <td>41.93</td>\n",
       "      <td>135.59</td>\n",
       "    </tr>\n",
       "    <tr>\n",
       "      <th>999</th>\n",
       "      <td>Player_1000</td>\n",
       "      <td>30</td>\n",
       "      <td>146</td>\n",
       "      <td>25.12</td>\n",
       "      <td>108.39</td>\n",
       "    </tr>\n",
       "  </tbody>\n",
       "</table>\n",
       "<p>1000 rows × 5 columns</p>\n",
       "</div>"
      ],
      "text/plain": [
       "     Player Name  Age  Matches Played  Batting Average  Strike Rate\n",
       "0       Player_1   26             456            27.70       188.21\n",
       "1       Player_2   23             154            24.61       139.34\n",
       "2       Player_3   32             210            36.87       182.79\n",
       "3       Player_4   34             426            51.81       178.77\n",
       "4       Player_5   30             221            49.80       162.44\n",
       "..           ...  ...             ...              ...          ...\n",
       "995   Player_996   24             279            23.46       187.80\n",
       "996   Player_997   28             344            29.47       160.55\n",
       "997   Player_998   23             126            49.30       124.71\n",
       "998   Player_999   35              16            41.93       135.59\n",
       "999  Player_1000   30             146            25.12       108.39\n",
       "\n",
       "[1000 rows x 5 columns]"
      ]
     },
     "execution_count": 8,
     "metadata": {},
     "output_type": "execute_result"
    }
   ],
   "source": [
    "cricket_df"
   ]
  },
  {
   "cell_type": "markdown",
   "id": "a50a4f1d-6561-4f49-b76d-148702942822",
   "metadata": {},
   "source": [
    "# Query 1: Convert 'Age' column to a NumPy array."
   ]
  },
  {
   "cell_type": "code",
   "execution_count": 13,
   "id": "7d4e9552-df59-4179-b06a-089aede56bea",
   "metadata": {},
   "outputs": [
    {
     "name": "stdout",
     "output_type": "stream",
     "text": [
      "<class 'numpy.ndarray'>\n"
     ]
    }
   ],
   "source": [
    "ages_array = np.array(cricket_df['Age'])\n",
    "print(type(ages_array))"
   ]
  },
  {
   "cell_type": "markdown",
   "id": "1e9136fb-5f88-4c93-98f8-20cafbc88572",
   "metadata": {},
   "source": [
    "# Query 2: Find the average age of players."
   ]
  },
  {
   "cell_type": "code",
   "execution_count": 15,
   "id": "3f4ebaf7-d56b-4c79-895c-a46ab0d71317",
   "metadata": {},
   "outputs": [
    {
     "name": "stdout",
     "output_type": "stream",
     "text": [
      "27.57\n"
     ]
    }
   ],
   "source": [
    "average_age = np.mean(ages_array)\n",
    "print(average_age)"
   ]
  },
  {
   "cell_type": "markdown",
   "id": "aedad985-169e-46ea-a544-816744e6dea7",
   "metadata": {},
   "source": [
    "# Query 3: Find the oldest and youngest player age."
   ]
  },
  {
   "cell_type": "code",
   "execution_count": 16,
   "id": "8b4171d4-de5e-4a79-96a5-ec918fbfa0b1",
   "metadata": {},
   "outputs": [
    {
     "name": "stdout",
     "output_type": "stream",
     "text": [
      "35\n",
      "20\n"
     ]
    }
   ],
   "source": [
    "oldest_age = np.max(ages_array)\n",
    "youngest_age = np.min(ages_array)\n",
    "\n",
    "print(oldest_age)\n",
    "print(youngest_age)"
   ]
  },
  {
   "cell_type": "markdown",
   "id": "879090cc-7f79-4371-973f-ed12aa9e33b1",
   "metadata": {},
   "source": [
    "# Query 4: Count the total number of players above 30 years old."
   ]
  },
  {
   "cell_type": "code",
   "execution_count": 17,
   "id": "371123da-8d0d-47e9-bdb9-af7200b31ba0",
   "metadata": {},
   "outputs": [
    {
     "name": "stdout",
     "output_type": "stream",
     "text": [
      "336\n"
     ]
    }
   ],
   "source": [
    "count_above_30 = np.sum(ages_array > 30)\n",
    "print(count_above_30)"
   ]
  },
  {
   "cell_type": "markdown",
   "id": "b934b2f2-f633-426f-9543-43c0c61c4191",
   "metadata": {},
   "source": [
    "# Query 5: Find the median batting average."
   ]
  },
  {
   "cell_type": "code",
   "execution_count": 18,
   "id": "73b8f9fd-e141-460a-b407-9e803a9e724f",
   "metadata": {},
   "outputs": [
    {
     "name": "stdout",
     "output_type": "stream",
     "text": [
      "40.135\n"
     ]
    }
   ],
   "source": [
    "batting_avg_array = np.array(cricket_df['Batting Average'])\n",
    "median_batting_avg = np.median(batting_avg_array)\n",
    "\n",
    "print(median_batting_avg)"
   ]
  },
  {
   "cell_type": "markdown",
   "id": "e2399880-0b54-4b9b-b133-c0dd8a0b8ce5",
   "metadata": {},
   "source": [
    "# Query 6: Find the standard deviation of strike rates."
   ]
  },
  {
   "cell_type": "code",
   "execution_count": 19,
   "id": "313da79c-f59a-453a-aad4-982f2f149be1",
   "metadata": {},
   "outputs": [
    {
     "name": "stdout",
     "output_type": "stream",
     "text": [
      "29.10819410384471\n"
     ]
    }
   ],
   "source": [
    "strike_rate_array = np.array(cricket_df['Strike Rate'])\n",
    "std_dev_strike_rate = np.std(strike_rate_array)\n",
    "\n",
    "print(std_dev_strike_rate)"
   ]
  },
  {
   "cell_type": "markdown",
   "id": "0b182124-b5a7-4b15-acc2-4cdad83f2e18",
   "metadata": {},
   "source": [
    "# Query 7: Find the 90th percentile of batting average."
   ]
  },
  {
   "cell_type": "markdown",
   "id": "701006b3-0ab0-4781-b8e8-a18b26d544bd",
   "metadata": {},
   "source": [
    "percentile_90 = np.percentile(batting_avg_array, 90)\n",
    "\n",
    "print(percentile_90)"
   ]
  },
  {
   "cell_type": "markdown",
   "id": "eb9d653f-71c6-4e7e-9c55-c0e2b1832d8d",
   "metadata": {},
   "source": [
    "# Query 8: Find the number of players with strike rate above 150."
   ]
  },
  {
   "cell_type": "code",
   "execution_count": 25,
   "id": "d5200708-3413-416e-a562-c04df99b70f4",
   "metadata": {},
   "outputs": [
    {
     "name": "stdout",
     "output_type": "stream",
     "text": [
      "513\n"
     ]
    }
   ],
   "source": [
    "count_high_strike = np.sum(high_strike_rate)\n",
    "\n",
    "print(count_high_strike)"
   ]
  },
  {
   "cell_type": "markdown",
   "id": "e232c72a-523d-477c-8f05-c4fd411ed7e4",
   "metadata": {},
   "source": [
    "# Query 9: Reshape the first 20 batting averages into a 4x5 matrix."
   ]
  },
  {
   "cell_type": "code",
   "execution_count": 27,
   "id": "31ea0df5-ec4f-4af6-b79a-f5df513345cb",
   "metadata": {},
   "outputs": [
    {
     "name": "stdout",
     "output_type": "stream",
     "text": [
      "[[27.7  24.61 36.87 51.81 49.8 ]\n",
      " [22.2  38.21 40.9  45.78 46.01]\n",
      " [34.59 42.43 39.24 55.4  41.21]\n",
      " [37.64 36.18 42.9  52.16 41.54]]\n"
     ]
    }
   ],
   "source": [
    "reshaped_avg = batting_avg_array[:20].reshape(4,5)\n",
    "print(reshaped_avg)"
   ]
  },
  {
   "cell_type": "markdown",
   "id": "b12ec531-6e8a-4b2d-9fd4-ce5361a34f0d",
   "metadata": {},
   "source": [
    "# Query 10: Compute row-wise sum of reshaped matrix."
   ]
  },
  {
   "cell_type": "code",
   "execution_count": 28,
   "id": "b4f1ba03-84b8-40a1-88a1-ee3170b40c59",
   "metadata": {},
   "outputs": [
    {
     "name": "stdout",
     "output_type": "stream",
     "text": [
      "[190.79 193.1  212.87 210.42]\n"
     ]
    }
   ],
   "source": [
    "row_wise_sum = np.sum(reshaped_avg, axis=1)\n",
    "print(row_wise_sum)"
   ]
  },
  {
   "cell_type": "markdown",
   "id": "cb1de9dc-a9dd-4e37-9fd0-48b0eddaa049",
   "metadata": {},
   "source": [
    "# Query 11: Compute column-wise mean of reshaped matrix."
   ]
  },
  {
   "cell_type": "code",
   "execution_count": 29,
   "id": "dd4d8e4c-6471-4e52-913d-6811fca6a495",
   "metadata": {},
   "outputs": [
    {
     "name": "stdout",
     "output_type": "stream",
     "text": [
      "[30.5325 35.3575 39.9775 51.2875 44.64  ]\n"
     ]
    }
   ],
   "source": [
    "col_wise_mean = np.mean(reshaped_avg, axis=0)\n",
    "print(col_wise_mean)"
   ]
  },
  {
   "cell_type": "markdown",
   "id": "b1b4cf58-e306-4fe7-af2b-7ebda2cc7112",
   "metadata": {},
   "source": [
    "# Query 12: Transpose the reshaped matrix."
   ]
  },
  {
   "cell_type": "code",
   "execution_count": 30,
   "id": "6650b68e-4897-4805-9574-6009c5915d17",
   "metadata": {},
   "outputs": [
    {
     "name": "stdout",
     "output_type": "stream",
     "text": [
      "[[27.7  22.2  34.59 37.64]\n",
      " [24.61 38.21 42.43 36.18]\n",
      " [36.87 40.9  39.24 42.9 ]\n",
      " [51.81 45.78 55.4  52.16]\n",
      " [49.8  46.01 41.21 41.54]]\n"
     ]
    }
   ],
   "source": [
    "transposed_avg = reshaped_avg.T\n",
    "print(transposed_avg)"
   ]
  },
  {
   "cell_type": "markdown",
   "id": "612a9915-7baf-4756-be8b-01a50ac84871",
   "metadata": {},
   "source": [
    "# Query 13: Find the variance of batting average."
   ]
  },
  {
   "cell_type": "code",
   "execution_count": 32,
   "id": "e56e73f4-f263-46cd-8402-302c39d706ea",
   "metadata": {},
   "outputs": [
    {
     "name": "stdout",
     "output_type": "stream",
     "text": [
      "131.5398293159\n"
     ]
    }
   ],
   "source": [
    "variance_batting_avg = np.var(batting_avg_array)\n",
    "\n",
    "print(variance_batting_avg)"
   ]
  },
  {
   "cell_type": "markdown",
   "id": "b99262ad-1954-4ba9-a208-1e56e3f19637",
   "metadata": {},
   "source": [
    "# Query 14: Stack age and matches played horizontally."
   ]
  },
  {
   "cell_type": "code",
   "execution_count": 33,
   "id": "56b4a772-20ec-4c67-b005-7ea699f5830e",
   "metadata": {},
   "outputs": [
    {
     "name": "stdout",
     "output_type": "stream",
     "text": [
      "[[ 26 456]\n",
      " [ 23 154]\n",
      " [ 32 210]\n",
      " ...\n",
      " [ 23 126]\n",
      " [ 35  16]\n",
      " [ 30 146]]\n"
     ]
    }
   ],
   "source": [
    "stacked_array = np.hstack((ages_array.reshape(-1,1), matches_array.reshape(-1,1)))\n",
    "\n",
    "print(stacked_array)"
   ]
  },
  {
   "cell_type": "markdown",
   "id": "b8b4f7ee-ef16-4dce-9917-ce1e61a8dfca",
   "metadata": {},
   "source": [
    "# Query 15: Split the batting average array into 100 equal parts."
   ]
  },
  {
   "cell_type": "code",
   "execution_count": 35,
   "id": "c147defe-da36-49cd-a162-33389f4ac7be",
   "metadata": {},
   "outputs": [
    {
     "name": "stdout",
     "output_type": "stream",
     "text": [
      "[array([27.7 , 24.61, 36.87, 51.81, 49.8 , 22.2 , 38.21, 40.9 , 45.78,\n",
      "       46.01]), array([34.59, 42.43, 39.24, 55.4 , 41.21, 37.64, 36.18, 42.9 , 52.16,\n",
      "       41.54]), array([46.47, 49.51, 40.81, 37.07, 55.07, 36.7 , 38.48, 59.61, 20.01,\n",
      "       27.42]), array([35.36, 57.3 , 22.8 , 20.38, 22.11, 23.54, 21.5 , 39.19, 43.23,\n",
      "       30.87]), array([35.93, 23.67, 33.45, 40.9 , 49.29, 20.13, 38.69, 31.88, 54.11,\n",
      "       48.62]), array([43.56, 31.09, 56.41, 21.8 , 24.38, 35.67, 24.98, 58.26, 51.92,\n",
      "       30.36]), array([43.54, 59.29, 55.37, 44.03, 56.15, 59.57, 49.73, 22.6 , 36.06,\n",
      "       53.51]), array([29.22, 53.23, 24.81, 21.88, 35.36, 21.47, 58.29, 53.05, 52.03,\n",
      "       45.19]), array([28.65, 40.73, 43.89, 41.  , 30.41, 40.61, 39.65, 59.85, 55.9 ,\n",
      "       38.54]), array([44.92, 49.91, 21.39, 55.8 , 54.41, 38.3 , 35.65, 30.92, 39.07,\n",
      "       21.78]), array([54.09, 21.42, 33.16, 57.26, 49.41, 31.26, 30.11, 20.2 , 47.83,\n",
      "       21.95]), array([41.3 , 58.48, 24.38, 55.78, 59.66, 22.46, 55.32, 40.64, 56.26,\n",
      "       42.85]), array([46.48, 41.75, 54.58, 49.36, 40.85, 54.73, 29.81, 26.29, 26.42,\n",
      "       33.36]), array([29.55, 57.2 , 24.23, 47.96, 27.57, 55.27, 58.45, 38.62, 55.16,\n",
      "       20.21]), array([52.8 , 29.15, 56.35, 20.04, 42.25, 50.27, 30.35, 27.73, 23.36,\n",
      "       33.06]), array([42.39, 24.63, 35.07, 20.36, 52.75, 25.14, 31.33, 20.74, 37.29,\n",
      "       53.6 ]), array([35.69, 27.18, 50.15, 51.55, 26.95, 50.83, 57.89, 26.66, 50.84,\n",
      "       48.34]), array([38.94, 22.32, 22.99, 54.1 , 59.61, 47.04, 37.84, 45.9 , 43.78,\n",
      "       35.34]), array([22.63, 52.86, 34.87, 52.75, 30.1 , 20.04, 26.36, 38.74, 57.77,\n",
      "       24.09]), array([54.17, 41.08, 53.04, 31.93, 53.6 , 50.91, 29.2 , 25.25, 54.72,\n",
      "       58.53]), array([21.25, 49.25, 56.38, 54.29, 58.58, 50.4 , 37.69, 32.48, 32.83,\n",
      "       48.98]), array([49.83, 28.01, 54.72, 48.6 , 42.51, 38.86, 41.73, 26.37, 28.15,\n",
      "       23.65]), array([26.15, 38.15, 41.21, 20.71, 51.87, 31.77, 56.47, 58.7 , 27.42,\n",
      "       38.48]), array([20.05, 43.93, 44.29, 29.9 , 42.34, 29.02, 26.43, 46.06, 33.04,\n",
      "       43.61]), array([37.33, 59.37, 25.98, 38.58, 47.22, 35.82, 58.99, 48.88, 46.28,\n",
      "       50.28]), array([58.11, 56.31, 48.97, 49.97, 25.84, 24.11, 42.84, 20.73, 39.29,\n",
      "       28.41]), array([33.84, 51.03, 57.65, 22.9 , 41.37, 55.3 , 23.3 , 52.98, 34.31,\n",
      "       32.88]), array([59.1 , 28.03, 47.73, 52.86, 21.65, 46.82, 58.06, 24.97, 55.85,\n",
      "       43.79]), array([44.66, 44.52, 31.95, 57.41, 57.89, 45.01, 51.34, 44.49, 39.38,\n",
      "       46.43]), array([42.12, 43.9 , 51.35, 39.24, 21.63, 26.56, 37.54, 48.99, 43.73,\n",
      "       46.01]), array([39.17, 44.63, 33.16, 38.81, 49.77, 54.87, 37.35, 21.75, 26.47,\n",
      "       20.83]), array([46.13, 33.29, 41.7 , 39.73, 23.26, 36.13, 28.82, 36.74, 28.14,\n",
      "       53.62]), array([26.97, 58.43, 36.64, 53.85, 45.15, 49.41, 50.71, 40.19, 41.73,\n",
      "       40.56]), array([43.52, 21.18, 35.82, 44.25, 43.91, 51.72, 46.2 , 59.69, 31.35,\n",
      "       34.37]), array([35.35, 38.63, 53.44, 29.43, 51.04, 36.21, 44.07, 45.3 , 34.91,\n",
      "       40.5 ]), array([36.52, 22.77, 37.49, 23.9 , 36.2 , 43.72, 43.18, 46.5 , 23.81,\n",
      "       46.08]), array([32.49, 35.96, 54.32, 20.36, 43.54, 43.95, 35.87, 29.48, 29.39,\n",
      "       55.35]), array([37.68, 33.24, 37.95, 46.78, 25.83, 37.98, 43.52, 57.94, 30.1 ,\n",
      "       34.37]), array([35.17, 44.22, 34.27, 41.34, 51.27, 48.22, 37.85, 54.57, 42.33,\n",
      "       41.6 ]), array([21.37, 59.47, 24.92, 29.25, 22.07, 45.6 , 28.99, 27.2 , 23.54,\n",
      "       24.13]), array([43.39, 47.53, 35.9 , 39.2 , 47.44, 20.7 , 32.93, 58.92, 43.2 ,\n",
      "       30.17]), array([40.87, 33.71, 41.29, 25.03, 25.31, 25.74, 57.59, 49.32, 26.5 ,\n",
      "       27.53]), array([49.23, 26.25, 29.38, 58.53, 30.21, 46.47, 59.15, 34.97, 20.7 ,\n",
      "       29.77]), array([53.24, 54.58, 50.74, 24.52, 51.82, 56.75, 44.02, 57.64, 53.07,\n",
      "       46.68]), array([43.09, 33.94, 26.37, 44.2 , 32.72, 54.66, 59.73, 50.1 , 23.62,\n",
      "       31.55]), array([24.36, 46.02, 50.61, 57.03, 37.53, 56.06, 55.12, 32.69, 54.76,\n",
      "       35.03]), array([31.87, 45.96, 33.14, 45.21, 44.39, 42.54, 35.22, 41.94, 43.86,\n",
      "       41.83]), array([37.78, 20.59, 43.48, 26.74, 45.7 , 50.37, 40.02, 41.69, 58.06,\n",
      "       53.89]), array([56.57, 52.55, 24.36, 25.96, 41.06, 29.84, 39.07, 35.77, 41.98,\n",
      "       49.88]), array([48.62, 40.85, 52.9 , 37.23, 55.87, 22.85, 58.19, 46.19, 35.2 ,\n",
      "       27.89]), array([39.17, 27.78, 26.65, 44.69, 40.92, 46.8 , 57.18, 41.29, 43.24,\n",
      "       23.59]), array([48.71, 36.  , 59.07, 52.93, 40.9 , 24.93, 54.38, 51.99, 27.38,\n",
      "       31.81]), array([51.74, 27.41, 56.71, 36.98, 23.48, 52.63, 34.94, 41.06, 24.49,\n",
      "       20.1 ]), array([45.52, 40.61, 43.74, 51.75, 45.86, 26.99, 34.43, 56.24, 50.8 ,\n",
      "       42.27]), array([30.23, 32.08, 49.28, 54.05, 46.86, 52.38, 50.67, 25.99, 36.96,\n",
      "       26.12]), array([29.41, 54.77, 38.92, 41.41, 27.14, 32.49, 29.21, 28.25, 45.52,\n",
      "       30.28]), array([45.28, 22.34, 25.67, 30.98, 43.88, 47.03, 37.71, 37.83, 48.98,\n",
      "       20.63]), array([33.64, 52.75, 44.13, 33.49, 56.22, 50.9 , 30.6 , 45.81, 43.83,\n",
      "       36.05]), array([34.68, 33.74, 44.69, 37.7 , 53.27, 46.78, 22.8 , 45.61, 30.85,\n",
      "       43.71]), array([47.21, 29.23, 38.27, 27.61, 22.09, 35.14, 34.52, 59.82, 37.85,\n",
      "       33.34]), array([43.22, 23.55, 58.47, 45.4 , 50.19, 26.82, 36.38, 36.91, 52.87,\n",
      "       20.05]), array([32.03, 59.25, 39.  , 35.3 , 24.79, 58.97, 20.8 , 49.49, 50.74,\n",
      "       29.75]), array([46.86, 23.72, 30.28, 51.52, 54.59, 44.34, 40.27, 26.37, 22.52,\n",
      "       24.71]), array([29.09, 33.67, 35.24, 33.85, 29.56, 40.39, 53.01, 31.19, 57.7 ,\n",
      "       54.93]), array([26.47, 51.45, 42.98, 42.66, 35.64, 40.05, 35.89, 41.59, 45.12,\n",
      "       46.97]), array([41.3 , 48.86, 25.65, 28.48, 52.75, 32.9 , 20.92, 26.15, 28.94,\n",
      "       58.29]), array([42.92, 57.31, 43.01, 39.17, 32.55, 44.25, 25.57, 55.93, 53.17,\n",
      "       32.7 ]), array([58.11, 53.01, 46.65, 24.87, 39.13, 40.24, 29.3 , 23.2 , 51.07,\n",
      "       24.88]), array([43.77, 57.46, 55.04, 31.11, 54.06, 20.01, 20.71, 44.1 , 34.59,\n",
      "       35.46]), array([42.58, 27.67, 28.47, 39.38, 50.17, 44.78, 31.89, 37.21, 26.83,\n",
      "       22.99]), array([51.31, 30.62, 27.11, 47.66, 44.72, 45.33, 29.16, 29.31, 28.83,\n",
      "       26.95]), array([46.23, 53.92, 48.97, 51.68, 36.19, 46.16, 34.17, 41.02, 39.27,\n",
      "       27.08]), array([35.48, 58.55, 29.94, 25.35, 36.74, 51.61, 43.29, 47.24, 27.59,\n",
      "       44.76]), array([32.94, 53.37, 45.17, 27.95, 22.58, 21.71, 34.86, 30.63, 45.84,\n",
      "       39.97]), array([30.64, 25.97, 25.09, 54.59, 29.74, 46.07, 52.43, 44.56, 54.38,\n",
      "       35.7 ]), array([58.25, 25.33, 24.09, 46.35, 57.71, 52.36, 23.06, 31.17, 57.21,\n",
      "       30.12]), array([51.25, 53.01, 39.82, 35.45, 38.  , 29.08, 55.58, 38.02, 55.3 ,\n",
      "       24.23]), array([59.53, 37.73, 21.91, 21.52, 49.85, 46.36, 52.09, 24.21, 21.42,\n",
      "       40.34]), array([35.5 , 38.48, 59.66, 58.83, 57.69, 51.35, 34.19, 36.49, 41.98,\n",
      "       53.22]), array([22.75, 36.97, 23.3 , 40.59, 55.96, 51.3 , 29.11, 59.04, 46.69,\n",
      "       20.42]), array([30.22, 30.43, 22.77, 58.39, 39.13, 55.83, 32.89, 25.01, 38.97,\n",
      "       24.56]), array([39.44, 56.81, 40.83, 44.66, 26.27, 21.75, 24.43, 43.94, 23.8 ,\n",
      "       35.04]), array([42.  , 35.55, 26.55, 30.95, 57.13, 47.04, 39.84, 20.51, 59.7 ,\n",
      "       46.86]), array([32.68, 55.17, 30.34, 41.76, 45.44, 28.84, 59.14, 49.93, 42.31,\n",
      "       27.22]), array([22.15, 32.8 , 50.13, 30.77, 41.58, 49.12, 24.32, 47.41, 23.67,\n",
      "       58.61]), array([39.54, 26.03, 33.7 , 36.54, 50.33, 49.74, 44.48, 24.24, 26.06,\n",
      "       23.75]), array([43.09, 55.09, 37.35, 26.43, 42.32, 52.47, 49.67, 55.26, 31.12,\n",
      "       27.76]), array([55.19, 46.3 , 32.44, 49.69, 52.6 , 44.6 , 47.52, 35.01, 41.55,\n",
      "       40.97]), array([53.92, 53.6 , 53.31, 20.44, 49.98, 50.35, 47.14, 50.25, 53.68,\n",
      "       38.81]), array([40.08, 24.99, 35.42, 45.73, 51.22, 28.69, 25.51, 46.52, 20.08,\n",
      "       27.13]), array([21.16, 26.68, 27.25, 35.51, 36.09, 54.97, 40.4 , 48.94, 24.17,\n",
      "       29.02]), array([48.12, 22.11, 39.46, 43.97, 44.09, 20.92, 32.88, 45.46, 25.96,\n",
      "       47.82]), array([49.84, 59.28, 28.39, 53.01, 40.81, 34.94, 24.9 , 49.42, 29.43,\n",
      "       34.86]), array([22.5 , 52.05, 50.66, 49.34, 31.98, 26.94, 45.5 , 39.85, 27.13,\n",
      "       47.44]), array([59.65, 49.89, 49.6 , 58.01, 28.12, 42.62, 59.19, 26.61, 48.01,\n",
      "       43.43]), array([43.46, 47.91, 57.18, 51.3 , 22.25, 54.11, 29.02, 35.08, 38.47,\n",
      "       39.24]), array([37.41, 57.49, 48.24, 45.25, 21.99, 56.16, 56.38, 51.21, 20.28,\n",
      "       22.29]), array([29.01, 25.25, 35.95, 56.9 , 38.88, 20.54, 31.31, 21.78, 21.45,\n",
      "       31.03]), array([31.02, 51.49, 58.99, 34.85, 37.16, 53.79, 30.73, 26.26, 54.12,\n",
      "       21.86]), array([44.79, 42.48, 33.84, 32.61, 50.87, 23.46, 29.47, 49.3 , 41.93,\n",
      "       25.12])]\n"
     ]
    }
   ],
   "source": [
    "split_avg = np.array_split(batting_avg_array, 100)\n",
    "print(split_avg)"
   ]
  },
  {
   "cell_type": "code",
   "execution_count": null,
   "id": "ea79a1b8-4a64-436b-9aa3-7fcf05dfd07b",
   "metadata": {},
   "outputs": [],
   "source": []
  }
 ],
 "metadata": {
  "kernelspec": {
   "display_name": "Python 3 (ipykernel)",
   "language": "python",
   "name": "python3"
  },
  "language_info": {
   "codemirror_mode": {
    "name": "ipython",
    "version": 3
   },
   "file_extension": ".py",
   "mimetype": "text/x-python",
   "name": "python",
   "nbconvert_exporter": "python",
   "pygments_lexer": "ipython3",
   "version": "3.12.7"
  }
 },
 "nbformat": 4,
 "nbformat_minor": 5
}
